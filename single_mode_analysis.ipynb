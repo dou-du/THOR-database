{
 "cells": [
  {
   "cell_type": "code",
   "execution_count": 3,
   "metadata": {},
   "outputs": [],
   "source": [
    "import numpy as np\n",
    "import math\n",
    "import matplotlib.pyplot as plt\n",
    "import ipywidgets as widgets\n",
    "from ipywidgets import interact, interactive, fixed, interact_manual\n",
    "#from ipywidgets import Layout\n",
    "import mplcursors\n",
    "from random import randrange\n",
    "import openbabel as ob\n",
    "import nglview as nv\n",
    "from nglview.viewer_control import ViewerControl"
   ]
  },
  {
   "cell_type": "code",
   "execution_count": 4,
   "metadata": {},
   "outputs": [],
   "source": [
    "from load_data import load_file\n",
    "from helper_functions import calc_scaling,symmetrize,single_rotD,single_rotP,unit_rot\n",
    "from calc_average import full_average,full_average_IR,full_average_R,full_average_R_orth,numerical_sector_average\n",
    "from calc_single import oriented_IR,oriented_R,single_rot_IR,single_rot_R,single_polar_IR,single_polar_R\n",
    "from plotting_functions import polar_plot"
   ]
  },
  {
   "cell_type": "code",
   "execution_count": 5,
   "metadata": {},
   "outputs": [
    {
     "name": "stdout",
     "output_type": "stream",
     "text": [
      "Loaded  freq-19813-90-2.fchk\n"
     ]
    }
   ],
   "source": [
    "#filename=\"freq-19813-90-2.out\"   # less accurate\n",
    "filename=\"freq-19813-90-2.fchk\"   # more accurate\n",
    "fr,Z,Q,D,P0,nat,aniso=load_file(filename)\n",
    "nmodes=len(fr)"
   ]
  },
  {
   "cell_type": "code",
   "execution_count": 6,
   "metadata": {},
   "outputs": [],
   "source": [
    "# parameters\n",
    "dtheta=0.02\n",
    "axes=[[\"x\",1], [\"y\",2] ,[\"z\",3]]\n",
    "\n",
    "phys_params=dict(laser =785, #633, \n",
    "                 T = 298.15\n",
    "                 )\n",
    "\n",
    "Lm=1\n",
    "# calculate intensity scaling factors\n",
    "v0= math.pow(10, 7)/phys_params['laser']\n",
    "\n",
    "scalingIR,scaling,scalingexp, scalingpolar= calc_scaling(phys_params['T'])\n",
    "pi=math.pi\n",
    "torad=2*pi/360"
   ]
  },
  {
   "cell_type": "code",
   "execution_count": 7,
   "metadata": {},
   "outputs": [
    {
     "name": "stderr",
     "output_type": "stream",
     "text": [
      "C:\\Users\\proelli\\Anaconda3\\lib\\openbabel\\__init__.py:14: UserWarning: \"import openbabel\" is deprecated, instead use \"from openbabel import openbabel\"\n",
      "  warnings.warn('\"import openbabel\" is deprecated, instead use \"from openbabel import openbabel\"')\n"
     ]
    }
   ],
   "source": [
    "# convert to mol format for displaying vibrations\n",
    "def convert_to_mol(filename,molfilename):\n",
    "    #print(\"conv\")\n",
    "    obConversion = ob.OBConversion()\n",
    "    obConversion.SetInAndOutFormats(\"out\", \"mol\") \n",
    "    mol = ob.OBMol()\n",
    "    obConversion.ReadFile(mol, filename)\n",
    "    outMDL = obConversion.WriteString(mol)\n",
    "    molcoords  = [[atom.GetX(),atom.GetY(),atom.GetZ()] for atom in ob.OBMolAtomIter(mol)] \n",
    "\n",
    "    obConversion.WriteFile(mol,molfilename)\n",
    "    return molcoords\n",
    "    \n",
    "\n",
    "outfile=\"freq-19813-90-2.out\"\n",
    "molfile=\"freq-19813-90-2.mol\"\n",
    "molcoords=convert_to_mol(outfile,molfile)"
   ]
  },
  {
   "cell_type": "code",
   "execution_count": 11,
   "metadata": {},
   "outputs": [],
   "source": [
    "%matplotlib widget\n",
    "# create polar plot\n",
    "def plot_single_mode(mode,rb_type_study,rb_polar_plan,rb_ir_beam,rb_rin_beam,rb_rout_beam):\n",
    "    m=mode-1 # Python starts from 0\n",
    "    \n",
    "    # Display molecule and chosen vibration\n",
    "    view = nv.NGLWidget()\n",
    "    comp = view.add_component(molfile) \n",
    "    control = ViewerControl(view=view)\n",
    "  #  control.spin([1,0,0],-90*torad)\n",
    "  #  control.spin([0,0,1],40*torad)\n",
    "    sc=3.5  # scale arrows for vibration\n",
    "    for at in range(nat):\n",
    "        displ1=list(molcoords[at]-sc*Q[m,at])\n",
    "        displ2=list(molcoords[at]+sc*Q[m,at])\n",
    "        view.shape.add_arrow(displ1, displ2, [ 0, 0, 0 ], 0.2)\n",
    "    # show axes\n",
    "    view.shape.add_arrow([-6,-6,-6], [-4,-6,-6], [ 0, 0, 1 ], 0.2, 'x')\n",
    "    view.shape.add_arrow([-6,-6,-6], [-6,-4,-6], [ 1, 0, 0 ], 0.2, 'y')\n",
    "    view.shape.add_arrow([-6,-6,-6], [-6,-6,-4], [ 0, 0.8, 0.2 ], 0.2, 'z')\n",
    "    view.shape.add('text', [-3.5,-6,-6], [ 0, 0, 1 ], 3, 'x')\n",
    "    view.shape.add('text', [-6, -3.5, -6], [ 1, 0, 0 ], 3, 'y')\n",
    "    view.shape.add('text', [-6, -6, -3.5], [ 0, 0.8, 0.2 ], 3, 'z')\n",
    "    display(view)\n",
    "    \n",
    "    print('Click to create cursor, Right-click to remove it')\n",
    "    \n",
    "    #P=symmetrize(P0[m,:,:])\n",
    "\n",
    "    # Calculate frequency-dependent scaling factors\n",
    "    # Usual Stokes for thermal population\n",
    "    #scalingR=Lm*scaling* math.pow(v0 - fr[m], 4) / (\n",
    "    #        fr[m] * (1 - math.exp(scalingexp * fr[m]))) \n",
    "    # Usual anti-Stokes for thermal population\n",
    "    #scalingaR=Lm*scaling* math.pow(v0 + fr[m], 4) / fr[m] *(\n",
    "    #        1/(-1+math.exp(-scalingexp * fr[m]))) # \n",
    "    # For THOR: anti-Stokes without population\n",
    "    #scalingTHOR=Lm*scaling* math.pow(v0 + fr[m], 4) / fr[m]  \n",
    "    \n",
    "    theta = np.arange(0, 2, dtheta)*pi\n",
    "    nb_theta=len(theta)\n",
    "    I=np.zeros(nb_theta)\n",
    "    proj=rb_polar_plan\n",
    "    e=np.array([0.,0.,1.0])\n",
    "\n",
    "    for t in range (0,nb_theta) :\n",
    "        r=unit_rot(proj,theta[t])\n",
    "        if rb_type_study==1 :\n",
    "            I[t]=scalingIR*single_polar_IR(D[m,:],r,e)\n",
    "        elif rb_type_study==2 :\n",
    "            I[t]=scalingpolar*single_polar_R(P0[m,:,:],r,e)\n",
    "        elif rb_type_study==3 :\n",
    "            I[t]=scalingIR*scalingpolar*single_polar_IR(D[m,:],r,e)*single_polar_R(P0[m,:,:],r,e)\n",
    "    \n",
    "    line=polar_plot(theta,I)\n",
    "    c1 = mplcursors.cursor(line)\n",
    "    @c1.connect(\"add\")\n",
    "    def _(sel):\n",
    "        sel.annotation.get_bbox_patch().set(fc=\"white\")\n",
    "        sel.annotation.arrow_patch.set(arrowstyle=\"simple\", fc=\"white\", alpha=.5)\n",
    "\n",
    "    ax=plt.gca()\n",
    "    ax.set_title(\"Vibrational mode {}\".format(mode),pad=20)\n",
    "    plt.tight_layout()\n",
    "    plt.show()"
   ]
  },
  {
   "cell_type": "code",
   "execution_count": 12,
   "metadata": {},
   "outputs": [
    {
     "data": {
      "application/vnd.jupyter.widget-view+json": {
       "model_id": "1152f018a9f4484eb3d7aea00389d792",
       "version_major": 2,
       "version_minor": 0
      },
      "text/plain": [
       "VBox(children=(HBox(children=(BoundedIntText(value=1, description='Mode:', max=63, min=1), RadioButtons(descri…"
      ]
     },
     "metadata": {},
     "output_type": "display_data"
    }
   ],
   "source": [
    "from ipywidgets import HBox, Layout,VBox\n",
    "\n",
    "studies=[[\"IR absorption\",1], [\"Raman scattering\",2] ,[\"Conversion\",3]]\n",
    "planes=[[\"x-y plane\",1], [\"x-z plane\",2] ,[\"y-z plane\",3]]\n",
    "\n",
    "interactive_plot = interactive(plot_single_mode, {'manual': True}, \n",
    "         mode=widgets.BoundedIntText(value=1,min=1,max=nmodes,description='Mode:',disabled=False),\n",
    "         rb_type_study=widgets.RadioButtons(\n",
    "                        options=studies,\n",
    "                        value=1,\n",
    "                        description='Type of study:',\n",
    "                        style={'description_width': 'initial'},\n",
    "                    #    layout={'width': 'max-content'}, # If the items' names are long\n",
    "                        disabled=False\n",
    "                    ),\n",
    "         rb_polar_plan=widgets.RadioButtons(\n",
    "                        options=planes,\n",
    "                        value=2,\n",
    "                        description='Projection plane:',\n",
    "                        style={'description_width': 'initial'},\n",
    "                    #    layout={'width': 'max-content'}, # If the items' names are long\n",
    "                        disabled=False\n",
    "                    ),\n",
    "         rb_ir_beam=widgets.RadioButtons(\n",
    "                        options=axes,\n",
    "                        value=3,\n",
    "                        description='IR beam:',\n",
    "                        style={'description_width': 'initial'},\n",
    "                        layout={'width': '30%'}, # If the items' names are long\n",
    "                        disabled=True\n",
    "                    ),\n",
    "        rb_rin_beam=widgets.RadioButtons(\n",
    "                        options=axes,\n",
    "                        value=3,\n",
    "                        description='Raman (in):',\n",
    "                        style={'description_width': 'initial'},\n",
    "                        layout={'width': '30%'}, # If the items' names are long\n",
    "                        disabled=True\n",
    "                    ),\n",
    "        rb_rout_beam=widgets.RadioButtons(\n",
    "                        options=axes,\n",
    "                        value=3,\n",
    "                        description='Raman (out):',\n",
    "                        style={'description_width': 'initial'},\n",
    "                        layout={'width': '30%'}, # If the items' names are long\n",
    "                        disabled=True\n",
    "                    )\n",
    "\n",
    "        );\n",
    "\n",
    "output = interactive_plot.children[-1]\n",
    "controls = HBox(interactive_plot.children[:-1], layout = Layout(flex_flow='row wrap')) #'column'))\n",
    "output.layout.height = '800px'\n",
    "\n",
    "display(VBox([controls,output]))"
   ]
  },
  {
   "cell_type": "code",
   "execution_count": null,
   "metadata": {},
   "outputs": [],
   "source": []
  },
  {
   "cell_type": "code",
   "execution_count": null,
   "metadata": {},
   "outputs": [],
   "source": []
  }
 ],
 "metadata": {
  "kernelspec": {
   "display_name": "Python 3",
   "language": "python",
   "name": "python3"
  },
  "language_info": {
   "codemirror_mode": {
    "name": "ipython",
    "version": 3
   },
   "file_extension": ".py",
   "mimetype": "text/x-python",
   "name": "python",
   "nbconvert_exporter": "python",
   "pygments_lexer": "ipython3",
   "version": "3.7.3"
  }
 },
 "nbformat": 4,
 "nbformat_minor": 4
}
