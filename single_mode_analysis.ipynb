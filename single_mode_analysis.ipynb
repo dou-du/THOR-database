{
 "cells": [
  {
   "cell_type": "code",
   "execution_count": 1,
   "metadata": {},
   "outputs": [],
   "source": [
    "import numpy as np\n",
    "import math\n",
    "import matplotlib.pyplot as plt\n",
    "import ipywidgets as widgets\n",
    "#from ipywidgets import Layout\n",
    "import mplcursors\n",
    "from random import randrange"
   ]
  },
  {
   "cell_type": "code",
   "execution_count": 2,
   "metadata": {},
   "outputs": [],
   "source": [
    "from load_data import load_file\n",
    "from helper_functions import calc_scaling,symmetrize,rotate_to_reference,single_rotD,single_rotP,unit_rot\n",
    "from calc_average import full_average,full_average_IR,full_average_R,full_average_R_orth,numerical_sector_average\n",
    "from calc_single import oriented_IR,oriented_R,single_rot_IR,single_rot_R,single_polar_IR,single_polar_R\n",
    "from plotting_functions import polar_plot"
   ]
  },
  {
   "cell_type": "code",
   "execution_count": 3,
   "metadata": {},
   "outputs": [
    {
     "name": "stdout",
     "output_type": "stream",
     "text": [
      "Loaded  freq-19813-90-2.fchk\n"
     ]
    }
   ],
   "source": [
    "#filename=\"freq-19813-90-2.out\"   # less accurate\n",
    "filename=\"freq-19813-90-2.fchk\"   # more accurate\n",
    "fr,Z,Q,D,P0,nat,aniso=load_file(filename)"
   ]
  },
  {
   "cell_type": "code",
   "execution_count": 4,
   "metadata": {},
   "outputs": [],
   "source": [
    "# parameters\n",
    "dtheta=0.02\n",
    "axes=[[\"x\",1], [\"y\",2] ,[\"z\",3]]\n",
    "\n",
    "phys_params=dict(laser =785, #633, \n",
    "                 T = 298.15\n",
    "                 )\n",
    "\n",
    "Lm=1\n",
    "# calculate intensity scaling factors\n",
    "v0= math.pow(10, 7)/phys_params['laser']\n",
    "\n",
    "scalingIR,scaling,scalingexp= calc_scaling(phys_params['T'])\n",
    "pi=math.pi\n",
    "torad=2*pi/360"
   ]
  },
  {
   "cell_type": "code",
   "execution_count": 5,
   "metadata": {},
   "outputs": [
    {
     "name": "stdout",
     "output_type": "stream",
     "text": [
      "Mode  36\n"
     ]
    }
   ],
   "source": [
    "# calculate values for single mode\n",
    "m=randrange(len(fr))\n",
    "print(\"Mode \",m)\n",
    "P=symmetrize(P0[m,:,:])\n",
    "\n",
    "# Calculate frequency-dependent scaling factors\n",
    "# Usual Stokes for thermal population\n",
    "scalingR=Lm*scaling* math.pow(v0 - fr[m], 4) / (\n",
    "        fr[m] * (1 - math.exp(scalingexp * fr[m]))) \n",
    "# Usual anti-Stokes for thermal population\n",
    "scalingaR=Lm*scaling* math.pow(v0 + fr[m], 4) / fr[m] *(\n",
    "        1/(-1+math.exp(-scalingexp * fr[m]))) # \n",
    "# For THOR: anti-Stokes without population\n",
    "scalingTHOR=Lm*scaling* math.pow(v0 + fr[m], 4) / fr[m] "
   ]
  },
  {
   "cell_type": "code",
   "execution_count": 6,
   "metadata": {},
   "outputs": [
    {
     "data": {
      "application/vnd.jupyter.widget-view+json": {
       "model_id": "0230aa95025449e7b3402be17cee0fe6",
       "version_major": 2,
       "version_minor": 0
      },
      "text/plain": [
       "RadioButtons(description='Type of study:', options=(['IR absorption', 1], ['Raman scattering', 2], ['Conversio…"
      ]
     },
     "metadata": {},
     "output_type": "display_data"
    }
   ],
   "source": [
    "studies=[[\"IR absorption\",1], [\"Raman scattering\",2] ,[\"Conversion\",3]]\n",
    "rb_type_study=widgets.RadioButtons(\n",
    "    options=studies,\n",
    "    value=1,\n",
    "    description='Type of study:',\n",
    "    style={'description_width': 'initial'},\n",
    "#    layout={'width': 'max-content'}, # If the items' names are long\n",
    "    disabled=False\n",
    ")\n",
    "display(rb_type_study)"
   ]
  },
  {
   "cell_type": "code",
   "execution_count": 7,
   "metadata": {},
   "outputs": [],
   "source": [
    "rb_ir_beam=widgets.RadioButtons(\n",
    "    options=axes,\n",
    "    value=3,\n",
    "    description='IR beam:',\n",
    "    style={'description_width': 'initial'},\n",
    "    layout={'width': '30%'}, # If the items' names are long\n",
    "    disabled=False\n",
    ")"
   ]
  },
  {
   "cell_type": "code",
   "execution_count": 8,
   "metadata": {},
   "outputs": [],
   "source": [
    "rb_rin_beam=widgets.RadioButtons(\n",
    "    options=axes,\n",
    "    value=3,\n",
    "    description='Raman (in):',\n",
    "    style={'description_width': 'initial'},\n",
    "    layout={'width': '30%'}, # If the items' names are long\n",
    "    disabled=False\n",
    ")"
   ]
  },
  {
   "cell_type": "code",
   "execution_count": 9,
   "metadata": {},
   "outputs": [],
   "source": [
    "rb_rout_beam=widgets.RadioButtons(\n",
    "    options=axes,\n",
    "    value=3,\n",
    "    description='Raman (out):',\n",
    "    style={'description_width': 'initial'},\n",
    "    layout={'width': '30%'}, # If the items' names are long\n",
    "    disabled=False\n",
    ")"
   ]
  },
  {
   "cell_type": "code",
   "execution_count": 10,
   "metadata": {},
   "outputs": [
    {
     "data": {
      "application/vnd.jupyter.widget-view+json": {
       "model_id": "0acaea1ac7ed49989b72b5c9c81cf6b2",
       "version_major": 2,
       "version_minor": 0
      },
      "text/plain": [
       "HBox(children=(RadioButtons(description='IR beam:', index=2, layout=Layout(width='30%'), options=(['x', 1], ['…"
      ]
     },
     "metadata": {},
     "output_type": "display_data"
    }
   ],
   "source": [
    "#not used (would need generalization of rotation + single orientation fcts)\n",
    "beams_settings=widgets.HBox([rb_ir_beam, rb_rin_beam, rb_rout_beam])\n",
    "display(beams_settings)"
   ]
  },
  {
   "cell_type": "code",
   "execution_count": 11,
   "metadata": {},
   "outputs": [
    {
     "data": {
      "application/vnd.jupyter.widget-view+json": {
       "model_id": "775b6b43dee04015b970592cc8de97fb",
       "version_major": 2,
       "version_minor": 0
      },
      "text/plain": [
       "RadioButtons(description='Projection plane:', index=1, options=(['x-y plane', 1], ['x-z plane', 2], ['y-z plan…"
      ]
     },
     "metadata": {},
     "output_type": "display_data"
    }
   ],
   "source": [
    "planes=[[\"x-y plane\",1], [\"x-z plane\",2] ,[\"y-z plane\",3]]\n",
    "rb_polar_plan=widgets.RadioButtons(\n",
    "    options=planes,\n",
    "    value=2,\n",
    "    description='Projection plane:',\n",
    "    style={'description_width': 'initial'},\n",
    "#    layout={'width': 'max-content'}, # If the items' names are long\n",
    "    disabled=False\n",
    ")\n",
    "display(rb_polar_plan)"
   ]
  },
  {
   "cell_type": "code",
   "execution_count": 12,
   "metadata": {},
   "outputs": [
    {
     "data": {
      "application/vnd.jupyter.widget-view+json": {
       "model_id": "666ad82a67ba44a994bdc9fca555161f",
       "version_major": 2,
       "version_minor": 0
      },
      "text/plain": [
       "Canvas(toolbar=Toolbar(toolitems=[('Home', 'Reset original view', 'home', 'home'), ('Back', 'Back to previous …"
      ]
     },
     "metadata": {},
     "output_type": "display_data"
    }
   ],
   "source": [
    "# create polar plot\n",
    "theta = np.arange(0, 2, dtheta)*pi\n",
    "nb_theta=len(theta)\n",
    "I=np.zeros(nb_theta)\n",
    "proj=rb_polar_plan.value\n",
    "e=np.array([0.,0.,1.0])\n",
    "\n",
    "\n",
    "for t in range (0,nb_theta) :\n",
    "    r=unit_rot(proj,theta[t])\n",
    "    if rb_type_study.value==1 :\n",
    "        I[t]=scalingIR*single_polar_IR(D[m,:],r,e)\n",
    "    elif rb_type_study.value==2 :\n",
    "        I[t]=scalingR*single_polar_R(P,r,e)\n",
    "    elif rb_type_study.value==3 :\n",
    "        I[t]=scalingIR*scalingTHOR*single_polar_IR(D[m,:],r,e)*single_polar_R(P,r,e)\n",
    "\n",
    "%matplotlib widget\n",
    "line=polar_plot(theta,I)\n",
    "c1 = mplcursors.cursor(line)\n",
    "@c1.connect(\"add\")\n",
    "def _(sel):\n",
    "    sel.annotation.get_bbox_patch().set(fc=\"white\")\n",
    "    sel.annotation.arrow_patch.set(arrowstyle=\"simple\", fc=\"white\", alpha=.5)\n",
    "\n",
    "ax=plt.gca()\n",
    "ax.set_title('Click to create cursor, Right-click to remove it')\n",
    "plt.show()"
   ]
  },
  {
   "cell_type": "code",
   "execution_count": null,
   "metadata": {},
   "outputs": [],
   "source": []
  }
 ],
 "metadata": {
  "kernelspec": {
   "display_name": "Python 3",
   "language": "python",
   "name": "python3"
  },
  "language_info": {
   "codemirror_mode": {
    "name": "ipython",
    "version": 3
   },
   "file_extension": ".py",
   "mimetype": "text/x-python",
   "name": "python",
   "nbconvert_exporter": "python",
   "pygments_lexer": "ipython3",
   "version": "3.7.3"
  }
 },
 "nbformat": 4,
 "nbformat_minor": 4
}
