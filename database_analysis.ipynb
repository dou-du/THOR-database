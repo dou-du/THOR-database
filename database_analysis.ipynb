{
 "cells": [
  {
   "cell_type": "code",
   "execution_count": 1,
   "metadata": {},
   "outputs": [],
   "source": [
    "# -*- coding: utf-8 -*-\n",
    "\"\"\"\n",
    "Created on Tue May 11 2021\n",
    "\n",
    "@author: Zsuzsanna Koczor-Benda, UCL\n",
    "\"\"\"\n",
    "\n",
    "from __future__ import print_function\n",
    "import numpy as np\n",
    "import matplotlib.pyplot as plt\n",
    "from matplotlib.widgets import RectangleSelector\n",
    "from plotting_functions import get_intensities,broadened_spec_single,get_intens_range,get_target,build_molecules,plot_spectra,write_html"
   ]
  },
  {
   "cell_type": "code",
   "execution_count": 2,
   "metadata": {},
   "outputs": [],
   "source": [
    "from rdkit import Chem\n",
    "from rdkit.Chem.Draw import IPythonConsole\n",
    "from rdkit.Chem import Draw\n",
    "import pandas as pd\n",
    "import qgrid\n",
    "import ipywidgets as widgets\n",
    "from ipywidgets import interact, interactive, fixed, interact_manual\n",
    "from ipywidgets import HBox, Layout,VBox"
   ]
  },
  {
   "cell_type": "markdown",
   "metadata": {},
   "source": [
    "# Load data for all molecules"
   ]
  },
  {
   "cell_type": "code",
   "execution_count": 3,
   "metadata": {},
   "outputs": [
    {
     "name": "stdout",
     "output_type": "stream",
     "text": [
      "2847 molecules read, maximum number of normal modes: 186\n",
      "Target properties calculated\n"
     ]
    }
   ],
   "source": [
    "# Quantities to load:\n",
    "\n",
    "# wn, R_spec, IR_spec:               wavenumbers, Raman and IR broadened spectra\n",
    "# freqs:                             normal mode frequencies \n",
    "# prod_ints, R_ints, IR_ints:        conversion, Raman, and IR intensties for each normal mode\n",
    "# smiles, fname:                     smiles codes and database codes of molecules\n",
    "# P, A, R:                           THz conversion, IR absorption, and Raman target properties for xmin-xmax range\n",
    "\n",
    "\n",
    "xmin=0      # minimum wavenumber to load (in cm-1)\n",
    "xmax=4000   # maximum wavenumber to load (in cm-1)\n",
    "\n",
    "# get intensities and target properties for all molecules\n",
    "freqs0,prod_ints,R_ints,IR_ints,smiles,fname,P,A,R,R_fre,IR_fre,P_fre=get_intensities(xmin,xmax,sclf=1)"
   ]
  },
  {
   "cell_type": "markdown",
   "metadata": {},
   "source": [
    "# Distribution of chosen target property values in the database"
   ]
  },
  {
   "cell_type": "code",
   "execution_count": 4,
   "metadata": {},
   "outputs": [],
   "source": [
    "# Distribution of P,A, or R for range 30-1000 cm-1 is centered at 0 with std=1 for random set of molecules\n",
    "# Current dataset contains 1.3k random molecules + 1.5k molecules selected based on ML predictions\n",
    "\n",
    "# def line_select_callback(eclick, erelease):\n",
    "#     'eclick and erelease are the press and release events'\n",
    "#     x1, y1 = eclick.xdata, eclick.ydata\n",
    "#     x2, y2 = erelease.xdata, erelease.ydata\n",
    "    \n",
    "def plot_histogram(target_type,trange,sclf):\n",
    "    tmin=trange[0]\n",
    "    tmax=trange[1]\n",
    "\n",
    "    if target_type==\"P\":\n",
    "        intens=prod_ints\n",
    "    elif target_type==\"R\":\n",
    "        intens=R_ints\n",
    "    elif target_type==\"A\":\n",
    "        intens=IR_ints\n",
    "        \n",
    "    freqs=freqs0*sclf\n",
    "\n",
    "    intens_range=get_intens_range(freqs,intens,tmin,tmax)      # get intensities in freq range\n",
    "    target=get_target(intens_range,target_type)                # get chosen target for freq range\n",
    "    \n",
    "    plt.close('Histogram')\n",
    "    fig, ax = plt.subplots(num='Histogram')\n",
    "    fig.set_size_inches(6, 4)\n",
    "    \n",
    "#     print(\"Click and drag to draw a selection area - x only\\n\")\n",
    "#     rect_select = RectangleSelector(ax, line_select_callback,\n",
    "#                                        drawtype='box', useblit=True,\n",
    "#                                        button=[1, 3],  # don't use middle button\n",
    "#                                        minspanx=5, minspany=5,\n",
    "#                                        spancoords='pixels',\n",
    "#                                        interactive=True)\n",
    "\n",
    "    if np.isinf(target).any():    # if there are molecules with 0 intensity in range, target will be -infinity\n",
    "        print(\"Number of molecules with no modes in range: \",len(target[target < -1E2]))\n",
    "    plt.hist(target[target > -1E2],20,width=0.25)  # skip molecules with too small target value \n",
    "    plt.xlabel(\"{} for range {}-{} cm-1\".format(target_type,tmin,tmax))\n",
    "    plt.ylabel(\"counts\")\n",
    "    plt.rcParams.update({'font.size': 16})\n",
    "    plt.tight_layout()\n",
    "    plt.show()\n",
    "    return target,intens_range,freqs\n"
   ]
  },
  {
   "cell_type": "code",
   "execution_count": 5,
   "metadata": {},
   "outputs": [
    {
     "data": {
      "application/vnd.jupyter.widget-view+json": {
       "model_id": "9d8a1a844a8a487ca2adb390b9c67c1c",
       "version_major": 2,
       "version_minor": 0
      },
      "text/plain": [
       "VBox(children=(HBox(children=(RadioButtons(description='Target property:', options=(['Conversion', 'P'], ['Abs…"
      ]
     },
     "metadata": {},
     "output_type": "display_data"
    }
   ],
   "source": [
    "%matplotlib widget\n",
    "\n",
    "\n",
    "layout = widgets.Layout(width='500px', height='40px',description_width='400px') #set width and height\n",
    "\n",
    "\n",
    "interactive_plot = interactive(plot_histogram, {'manual': True}, \n",
    "         target_type=widgets.RadioButtons(options=[['Conversion','P'], ['Absorption','A'],['Raman','R']],\n",
    "                                          description='Target property:',\n",
    "                                          style={'description_width': 'initial'},\n",
    "                                          disabled=False),\n",
    "         trange=widgets.FloatRangeSlider(\n",
    "                    min=0,\n",
    "                    max=3800,\n",
    "                    value=[30,1000],\n",
    "                    step=1,\n",
    "                    continuous_update=False,\n",
    "                    orientation='horizontal',\n",
    "                    description='Frequency range (cm-1):',            \n",
    "                    layout=layout,\n",
    "                    style={'description_width': 'initial'}\n",
    "                           ),\n",
    "         sclf=widgets.FloatSlider(value=0.98,min=0.9,max=1.1,step=0.01,description='Frequency scaling factor',\n",
    "                                  continuous_update=False,\n",
    "                                  disabled=False,style={'description_width': 'initial'}),\n",
    "         );\n",
    "\n",
    "output = interactive_plot.children[-1]\n",
    "controls = HBox(interactive_plot.children[:-1], layout = Layout(flex_flow='row wrap')) #'column'))\n",
    "#output.layout.height = '650px'\n",
    "#interactive_plot\n",
    "display(VBox([controls,output]))\n"
   ]
  },
  {
   "cell_type": "markdown",
   "metadata": {},
   "source": [
    "# Visualize chosen molecules"
   ]
  },
  {
   "cell_type": "code",
   "execution_count": 6,
   "metadata": {},
   "outputs": [],
   "source": [
    "# Change variables here\n",
    "# saving slows down code\n",
    "res=0.5     # resolution of the widened spectra (in cm-1), default=0.5\n",
    "gammaIR=5   # IR peak FWHM (in cm-1), default=5\n",
    "gammaR=5    # Raman peak FWHM (in cm-1), default=5\n",
    "nummols=3        # number of molecules to plot\n",
    "best=True         # get best molecules (True) or worst molecules (False)\n",
    "nummodes=3       # number of best normal modes per molecule to print out"
   ]
  },
  {
   "cell_type": "code",
   "execution_count": 7,
   "metadata": {},
   "outputs": [
    {
     "name": "stdout",
     "output_type": "stream",
     "text": [
      "Total number of molecules: 2847, chosen: 3, number of errors: 0 at mols []\n",
      "513.0 2310.0\n"
     ]
    }
   ],
   "source": [
    "if 'target_type' in interactive_plot.kwargs:\n",
    "    target_type=interactive_plot.kwargs['target_type']\n",
    "    tmin=interactive_plot.kwargs['trange'][0]\n",
    "    tmax=interactive_plot.kwargs['trange'][1]\n",
    "    sclf=interactive_plot.kwargs['sclf']\n",
    "    target=interactive_plot.result[0]\n",
    "    intens_range=interactive_plot.result[1]\n",
    "    freqs=interactive_plot.result[2]\n",
    "\n",
    "    if best:\n",
    "        bestmols=list(reversed(np.argsort(target)[-nummols:])) # best molecules\n",
    "    else:\n",
    "        bestmols=np.argsort(target)[:nummols]                  # worst molecules\n",
    "    bestsmiles=[smiles[i] for i in bestmols]                   # corresponding smiles codes\n",
    "    mols,errs =  build_molecules(bestsmiles)                   # build RDKit molecules\n",
    "    print(\"Total number of molecules: {}, chosen: {}, number of errors: {} at mols {}\".format(len(smiles),\n",
    "                                                                                        len(mols),len(errs),errs))"
   ]
  },
  {
   "cell_type": "code",
   "execution_count": 8,
   "metadata": {
    "scrolled": true
   },
   "outputs": [
    {
     "name": "stdout",
     "output_type": "stream",
     "text": [
      "\n",
      "###################################################################\n",
      "Molecule 000-752-142\n",
      "###################################################################\n"
     ]
    },
    {
     "data": {
      "image/png": "[encoded data removed]",
      "text/plain": [
       "<rdkit.Chem.rdchem.Mol at 0x19b2f45a940>"
      ]
     },
     "metadata": {},
     "output_type": "display_data"
    },
    {
     "name": "stdout",
     "output_type": "stream",
     "text": [
      "Properties for range 0-4000 cm-1 \n",
      "P=11.994 A=7.884 R=5.494\n",
      "P for range 513.0-2310.0 cm-1 = 11.993\n"
     ]
    },
    {
     "data": {
      "application/vnd.jupyter.widget-view+json": {
       "model_id": "80e155a349a743008836a2e2da395197",
       "version_major": 2,
       "version_minor": 0
      },
      "text/plain": [
       "Canvas(toolbar=Toolbar(toolitems=[('Home', 'Reset original view', 'home', 'home'), ('Back', 'Back to previous …"
      ]
     },
     "metadata": {},
     "output_type": "display_data"
    },
    {
     "name": "stdout",
     "output_type": "stream",
     "text": [
      "\n",
      "Best normal modes in range 513.0-2310.0 cm-1, type P\n",
      "--------------------------------------------------\n",
      "Mode 96 at 1578.1 cm-1 / 47.31 THz\n",
      "Conversion Intensity \t1.48e-24 km cm^2/(sr mol)\n",
      "Raman Stokes Intensity \t7.58e-29 cm^2/sr\n",
      "IR Intensity \t\t3.50e+03 km/mol\n",
      "--------------------------------------------------\n",
      "Mode 92 at 1461.5 cm-1 / 43.82 THz\n",
      "Conversion Intensity \t2.95e-26 km cm^2/(sr mol)\n",
      "Raman Stokes Intensity \t2.98e-29 cm^2/sr\n",
      "IR Intensity \t\t2.02e+02 km/mol\n",
      "--------------------------------------------------\n",
      "Mode 74 at 1204.0 cm-1 / 36.09 THz\n",
      "Conversion Intensity \t2.92e-26 km cm^2/(sr mol)\n",
      "Raman Stokes Intensity \t1.05e-29 cm^2/sr\n",
      "IR Intensity \t\t6.63e+02 km/mol\n",
      "--------------------------------------------------\n",
      "\n",
      "###################################################################\n",
      "Molecule 000-754-182\n",
      "###################################################################\n"
     ]
    },
    {
     "data": {
      "image/png": "[encoded data removed]",
      "text/plain": [
       "<rdkit.Chem.rdchem.Mol at 0x19b2f472d00>"
      ]
     },
     "metadata": {},
     "output_type": "display_data"
    },
    {
     "name": "stdout",
     "output_type": "stream",
     "text": [
      "Properties for range 0-4000 cm-1 \n",
      "P=11.249 A=7.717 R=5.461\n",
      "P for range 513.0-2310.0 cm-1 = 11.249\n"
     ]
    },
    {
     "data": {
      "application/vnd.jupyter.widget-view+json": {
       "model_id": "1cd25a55354c470ca3abf92f45dfcc65",
       "version_major": 2,
       "version_minor": 0
      },
      "text/plain": [
       "Canvas(toolbar=Toolbar(toolitems=[('Home', 'Reset original view', 'home', 'home'), ('Back', 'Back to previous …"
      ]
     },
     "metadata": {},
     "output_type": "display_data"
    },
    {
     "name": "stdout",
     "output_type": "stream",
     "text": [
      "\n",
      "Best normal modes in range 513.0-2310.0 cm-1, type P\n",
      "--------------------------------------------------\n",
      "Mode 93 at 1614.1 cm-1 / 48.39 THz\n",
      "Conversion Intensity \t6.61e-25 km cm^2/(sr mol)\n",
      "Raman Stokes Intensity \t8.48e-29 cm^2/sr\n",
      "IR Intensity \t\t1.31e+03 km/mol\n",
      "--------------------------------------------------\n",
      "Mode 91 at 1567.9 cm-1 / 47.00 THz\n",
      "Conversion Intensity \t6.04e-26 km cm^2/(sr mol)\n",
      "Raman Stokes Intensity \t2.26e-29 cm^2/sr\n",
      "IR Intensity \t\t4.80e+02 km/mol\n",
      "--------------------------------------------------\n",
      "Mode 73 at 1212.1 cm-1 / 36.34 THz\n",
      "Conversion Intensity \t2.56e-26 km cm^2/(sr mol)\n",
      "Raman Stokes Intensity \t9.57e-30 cm^2/sr\n",
      "IR Intensity \t\t7.03e+02 km/mol\n",
      "--------------------------------------------------\n",
      "\n",
      "###################################################################\n",
      "Molecule 000-773-240\n",
      "###################################################################\n"
     ]
    },
    {
     "data": {
      "image/png": "[encoded data removed]",
      "text/plain": [
       "<rdkit.Chem.rdchem.Mol at 0x19b2f472850>"
      ]
     },
     "metadata": {},
     "output_type": "display_data"
    },
    {
     "name": "stdout",
     "output_type": "stream",
     "text": [
      "Properties for range 0-4000 cm-1 \n",
      "P=10.971 A=7.479 R=5.291\n",
      "P for range 513.0-2310.0 cm-1 = 10.970\n"
     ]
    },
    {
     "data": {
      "application/vnd.jupyter.widget-view+json": {
       "model_id": "65f2422bf5274062b50035f11626cbb6",
       "version_major": 2,
       "version_minor": 0
      },
      "text/plain": [
       "Canvas(toolbar=Toolbar(toolitems=[('Home', 'Reset original view', 'home', 'home'), ('Back', 'Back to previous …"
      ]
     },
     "metadata": {},
     "output_type": "display_data"
    },
    {
     "name": "stdout",
     "output_type": "stream",
     "text": [
      "\n",
      "Best normal modes in range 513.0-2310.0 cm-1, type P\n",
      "--------------------------------------------------\n",
      "Mode 79 at 1605.0 cm-1 / 48.12 THz\n",
      "Conversion Intensity \t4.46e-25 km cm^2/(sr mol)\n",
      "Raman Stokes Intensity \t7.22e-29 cm^2/sr\n",
      "IR Intensity \t\t1.03e+03 km/mol\n",
      "--------------------------------------------------\n",
      "Mode 77 at 1569.8 cm-1 / 47.06 THz\n",
      "Conversion Intensity \t6.53e-26 km cm^2/(sr mol)\n",
      "Raman Stokes Intensity \t2.48e-29 cm^2/sr\n",
      "IR Intensity \t\t4.51e+02 km/mol\n",
      "--------------------------------------------------\n",
      "Mode 76 at 1529.4 cm-1 / 45.85 THz\n",
      "Conversion Intensity \t5.06e-26 km cm^2/(sr mol)\n",
      "Raman Stokes Intensity \t1.88e-29 cm^2/sr\n",
      "IR Intensity \t\t9.11e+02 km/mol\n",
      "--------------------------------------------------\n"
     ]
    }
   ],
   "source": [
    "if 'target_type' in interactive_plot.kwargs:\n",
    "    conv_data=np.zeros((nummols*nummodes,7))\n",
    "    cm_thz=0.0299792458 # conversion factor from cm-1 to THz\n",
    "\n",
    "    for nm,mm in enumerate(bestmols):\n",
    "        print(\"\\n###################################################################\")\n",
    "        mcode=fname[mm].split(\"_\",1)[0]\n",
    "\n",
    "        print(\"Molecule {}\".format(mcode.split(\"-\",1)[1]))\n",
    "        print(\"###################################################################\")\n",
    "        display(mols[nm])\n",
    "        print(\"Properties for range {}-{} cm-1 \\nP={:.3f} A={:.3f} R={:.3f}\".format(xmin,xmax,P[mm],A[mm],R[mm]))\n",
    "        print(\"{} for range {}-{} cm-1 = {:.3f}\".format(target_type,tmin,tmax,target[mm]))\n",
    "\n",
    "\n",
    "        wn,R_spec,IR_spec,conv_spec=broadened_spec_single(freqs[mm],  \n",
    "                                                            IR_fre[mm], R_fre[mm], P_fre[mm],\n",
    "                                                            tmin,tmax,res,gammaIR,gammaR,sclf)\n",
    "\n",
    "        plot_spectra(wn,R_spec,IR_spec,conv_spec,tmin,tmax,res,mcode)\n",
    "\n",
    "        bestmodes=np.argsort(intens_range[mm,:],axis=0)[-nummodes:]\n",
    "        print(\"\\nBest normal modes in range {}-{} cm-1, type {}\".format(tmin,tmax,target_type))\n",
    "        print(\"--------------------------------------------------\")\n",
    "        for mi,mode in enumerate(reversed(bestmodes)):         \n",
    "                            if intens_range[mm,mode]==0:\n",
    "                                conv_data[nm*nummodes+mi,:]=0\n",
    "                                print(\"Mode with zero target intensity\")\n",
    "                                print(\"--------------------------------------------------\")\n",
    "                                continue\n",
    "                            freqm=freqs[mm,mode]\n",
    "                            thz=cm_thz*freqm\n",
    "                            print(\"Mode {} at {:.1f} cm-1 / {:.2f} THz\".format(mode,freqm,thz))\n",
    "                            print(\"Conversion Intensity \\t{:.2e} km cm^2/(sr mol)\".format(prod_ints[mm,mode]))\n",
    "                            print(\"Raman Stokes Intensity \\t{:.2e} cm^2/sr\".format(R_ints[mm,mode]))\n",
    "                            print(\"IR Intensity \\t\\t{:.2e} km/mol\".format(IR_ints[mm,mode]))\n",
    "                            print(\"--------------------------------------------------\")\n",
    "                            conv_data[nm*nummodes+mi,0]=mm\n",
    "                            conv_data[nm*nummodes+mi,1]=mode\n",
    "                            conv_data[nm*nummodes+mi,2]=freqm\n",
    "                            conv_data[nm*nummodes+mi,3]=thz\n",
    "                            conv_data[nm*nummodes+mi,4]=prod_ints[mm,mode]\n",
    "                            conv_data[nm*nummodes+mi,5]=R_ints[mm,mode]\n",
    "                            conv_data[nm*nummodes+mi,6]=IR_ints[mm,mode]"
   ]
  },
  {
   "cell_type": "code",
   "execution_count": null,
   "metadata": {},
   "outputs": [],
   "source": []
  }
 ],
 "metadata": {
  "kernelspec": {
   "display_name": "Python 3",
   "language": "python",
   "name": "python3"
  },
  "language_info": {
   "codemirror_mode": {
    "name": "ipython",
    "version": 3
   },
   "file_extension": ".py",
   "mimetype": "text/x-python",
   "name": "python",
   "nbconvert_exporter": "python",
   "pygments_lexer": "ipython3",
   "version": "3.7.3"
  }
 },
 "nbformat": 4,
 "nbformat_minor": 2
}
