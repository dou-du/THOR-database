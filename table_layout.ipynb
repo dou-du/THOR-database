{
 "cells": [
  {
   "cell_type": "code",
   "execution_count": 1,
   "metadata": {},
   "outputs": [],
   "source": [
    "# -*- coding: utf-8 -*-\n",
    "\"\"\"\n",
    "Created on Tue May 11 2021\n",
    "\n",
    "@author: Zsuzsanna Koczor-Benda, UCL\n",
    "\"\"\"\n",
    "\n",
    "from __future__ import print_function\n",
    "import numpy as np\n",
    "import matplotlib.pyplot as plt\n",
    "from matplotlib.widgets import RectangleSelector\n",
    "from plotting_functions import get_intensities,broadened_spec_single,get_intens_range,get_target,build_molecules,plot_spectra,write_html"
   ]
  },
  {
   "cell_type": "code",
   "execution_count": 2,
   "metadata": {},
   "outputs": [],
   "source": [
    "import ipywidgets as widgets\n",
    "from ipywidgets import interact, interactive, fixed, interact_manual\n",
    "from ipywidgets import HBox, Layout,VBox\n",
    "\n",
    "layout = widgets.Layout(width='500px', height='40px',description_width='400px') #set width and height"
   ]
  },
  {
   "cell_type": "code",
   "execution_count": 3,
   "metadata": {},
   "outputs": [],
   "source": [
    "import pandas as pd\n",
    "import qgrid"
   ]
  },
  {
   "cell_type": "markdown",
   "metadata": {},
   "source": [
    "# Load data for all molecules"
   ]
  },
  {
   "cell_type": "code",
   "execution_count": 4,
   "metadata": {},
   "outputs": [
    {
     "name": "stdout",
     "output_type": "stream",
     "text": [
      "2847 molecules read, maximum number of normal modes: 186\n",
      "Target properties calculated\n"
     ]
    }
   ],
   "source": [
    "# Quantities to load:\n",
    "\n",
    "# wn, R_spec, IR_spec:               wavenumbers, Raman and IR broadened spectra\n",
    "# freqs:                             normal mode frequencies \n",
    "# prod_ints, R_ints, IR_ints:        conversion, Raman, and IR intensties for each normal mode\n",
    "# smiles, fname:                     smiles codes and database codes of molecules\n",
    "# P, A, R:                           THz conversion, IR absorption, and Raman target properties for xmin-xmax range\n",
    "\n",
    "\n",
    "xmin=0     # minimum wavenumber to load (in cm-1)\n",
    "xmax=4000   # maximum wavenumber to load (in cm-1)\n",
    "\n",
    "# get intensities and target properties for all molecules\n",
    "freqs0,prod_ints,R_ints,IR_ints,smiles,fname,P,A,R,R_fre,IR_fre,P_fre=get_intensities(xmin,xmax,sclf=1)"
   ]
  },
  {
   "cell_type": "markdown",
   "metadata": {},
   "source": [
    "# Create histogram and select region of interest"
   ]
  },
  {
   "cell_type": "code",
   "execution_count": 5,
   "metadata": {},
   "outputs": [
    {
     "data": {
      "application/vnd.jupyter.widget-view+json": {
       "model_id": "dc11c9cf2c5c4a88ab5da9851be6e6f6",
       "version_major": 2,
       "version_minor": 0
      },
      "text/plain": [
       "FloatRangeSlider(value=(30.0, 1000.0), continuous_update=False, description='Frequency range (cm-1):', layout=…"
      ]
     },
     "metadata": {},
     "output_type": "display_data"
    }
   ],
   "source": [
    "trange=widgets.FloatRangeSlider(\n",
    "                    min=0,\n",
    "                    max=3800,\n",
    "                    value=[30,1000],\n",
    "                    step=1,\n",
    "                    continuous_update=False,\n",
    "                    orientation='horizontal',\n",
    "                    description='Frequency range (cm-1):',\n",
    "                    layout=layout,\n",
    "                    style={'description_width': 'initial'}\n",
    "                           )\n",
    "trange"
   ]
  },
  {
   "cell_type": "code",
   "execution_count": 22,
   "metadata": {},
   "outputs": [
    {
     "name": "stdout",
     "output_type": "stream",
     "text": [
      "30.0 1000.0\n"
     ]
    },
    {
     "data": {
      "application/vnd.jupyter.widget-view+json": {
       "model_id": "fc31ed01004a4e548a2ea322cd2d8732",
       "version_major": 2,
       "version_minor": 0
      },
      "text/plain": [
       "Canvas(toolbar=Toolbar(toolitems=[('Home', 'Reset original view', 'home', 'home'), ('Back', 'Back to previous …"
      ]
     },
     "metadata": {},
     "output_type": "display_data"
    }
   ],
   "source": [
    "%matplotlib widget\n",
    "tmin=trange.value[0]\n",
    "tmax=trange.value[1]\n",
    "print(tmin,tmax)\n",
    "intens=R_ints\n",
    "freqs=freqs0*0.98\n",
    "target_type=\"R\"\n",
    "\n",
    "intens_range=get_intens_range(freqs,intens,tmin,tmax)      # get intensities in freq range\n",
    "nb_intens=np.shape(intens_range)[0]*np.shape(intens_range)[1]\n",
    "intens_max=max(np.reshape(intens_range,nb_intens))\n",
    "intens_norm=np.reshape(intens_range,nb_intens)/intens_max\n",
    "\n",
    "\n",
    "def line_select_callback(eclick, erelease):\n",
    "    'eclick and erelease are the press and release events'\n",
    "    x1, y1 = eclick.xdata, eclick.ydata\n",
    "    x2, y2 = erelease.xdata, erelease.ydata\n",
    "\n",
    "fig, ax = plt.subplots()       # make a new plotting range\n",
    "ax.set_title(\"Click and drag to draw a selection area - x only\\n\")\n",
    "fig.set_size_inches(8, 6)\n",
    "\n",
    "# drawtype is 'box' or 'line' or 'none'\n",
    "rect_select = RectangleSelector(ax, line_select_callback,\n",
    "                                       drawtype='box', useblit=True,\n",
    "                                       button=[1, 3],  # don't use middle button\n",
    "                                       minspanx=5, minspany=5,\n",
    "                                       spancoords='pixels',\n",
    "                                       interactive=True)\n",
    "\n",
    "plt.hist(intens_norm,20,width=0.03) \n",
    "plt.yscale('log')\n",
    "plt.xlabel(\"{} for range {}-{} cm-1\".format(target_type,tmin,tmax))\n",
    "plt.ylabel(\"counts\")\n",
    "plt.rcParams.update({'font.size': 16})\n",
    "plt.tight_layout()\n",
    "plt.show()"
   ]
  },
  {
   "cell_type": "markdown",
   "metadata": {},
   "source": [
    "# Create table and select mode for calculation"
   ]
  },
  {
   "cell_type": "code",
   "execution_count": 24,
   "metadata": {},
   "outputs": [],
   "source": [
    "#create default selection (max 50 modes for exemple)\n",
    "Imin=rect_select.extents[0]*intens_max\n",
    "Imax=rect_select.extents[1]*intens_max\n",
    "roi=np.where((intens_range>=Imin) & (intens_range<=Imax))\n",
    "\n",
    "freq_range=freqs[roi]\n",
    "R_range=R_ints[roi]\n",
    "IR_range=IR_ints[roi]\n",
    "prod_range=prod_ints[roi]"
   ]
  },
  {
   "cell_type": "code",
   "execution_count": 25,
   "metadata": {},
   "outputs": [
    {
     "data": {
      "application/vnd.jupyter.widget-view+json": {
       "model_id": "42f58f0581524144b217035f736d7108",
       "version_major": 2,
       "version_minor": 0
      },
      "text/plain": [
       "QgridWidget(grid_options={'fullWidthRows': True, 'syncColumnCellResize': True, 'forceFitColumns': True, 'defau…"
      ]
     },
     "metadata": {},
     "output_type": "display_data"
    }
   ],
   "source": [
    "df_types = pd.DataFrame({\n",
    "    'Molecule' : pd.Series(roi[0],dtype='int'),\n",
    "    'Mode' : pd.Series(freq_range,dtype='int'),\n",
    "    #'Frequency' : \n",
    "    'Raman activity' : pd.Series(R_range,dtype='f4'),\n",
    "    'IR intensity' : pd.Series(IR_range,dtype='f2'),\n",
    "    'Molecular chi(2)' : pd.Series(prod_range,dtype='f4')\n",
    "})\n",
    "qgrid_vib = qgrid.show_grid(df_types, show_toolbar=False)\n",
    "\n",
    "display(qgrid_vib)"
   ]
  },
  {
   "cell_type": "code",
   "execution_count": 26,
   "metadata": {},
   "outputs": [],
   "source": [
    "#create default selection (1st mode for exemple)\n",
    "\n",
    "mode_button = widgets.Button(description=\"Mode calculator\")\n",
    "output = widgets.Output()\n",
    "mode_select=qgrid_vib.get_selected_rows()\n",
    "if mode_select!=[]:\n",
    "    f=freq_range[mode_select[0]]\n",
    "    m=roi[0][mode_select[0]] # molecule number\n",
    "\n",
    "    display(mode_button, output)\n",
    "\n",
    "    @output.capture()\n",
    "    def on_button_clicked(mode_button):\n",
    "        print(f\"Calculations on mode at {f} cm-1 of molecule {m}\")\n",
    "        #print(f'New selected row index: {change.new[0]}')\n",
    "\n",
    "    mode_button.on_click(on_button_clicked)"
   ]
  },
  {
   "cell_type": "code",
   "execution_count": null,
   "metadata": {},
   "outputs": [],
   "source": []
  }
 ],
 "metadata": {
  "kernelspec": {
   "display_name": "Python 3",
   "language": "python",
   "name": "python3"
  },
  "language_info": {
   "codemirror_mode": {
    "name": "ipython",
    "version": 3
   },
   "file_extension": ".py",
   "mimetype": "text/x-python",
   "name": "python",
   "nbconvert_exporter": "python",
   "pygments_lexer": "ipython3",
   "version": "3.7.3"
  }
 },
 "nbformat": 4,
 "nbformat_minor": 4
}
