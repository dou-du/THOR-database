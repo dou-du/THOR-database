{
 "cells": [
  {
   "cell_type": "code",
   "execution_count": 1,
   "metadata": {},
   "outputs": [],
   "source": [
    "import ipywidgets as widgets"
   ]
  },
  {
   "cell_type": "code",
   "execution_count": 16,
   "metadata": {},
   "outputs": [
    {
     "data": {
      "application/vnd.jupyter.widget-view+json": {
       "model_id": "b1dfbb74286c4db7bda604e9586af798",
       "version_major": 2,
       "version_minor": 0
      },
      "text/plain": [
       "Accordion(children=(HTML(value='Ref. papers'), HTML(value='Functions handled by the database'), HTML(value='Th…"
      ]
     },
     "metadata": {},
     "output_type": "display_data"
    }
   ],
   "source": [
    "preamble = widgets.Accordion(\n",
    "children=[widgets.HTML(value='Ref. papers'), \n",
    "          widgets.HTML(value='Functions handled by the database'), \n",
    "          widgets.HTML(value='Thanks')], \n",
    "          selected_index=None)\n",
    "preamble.set_title(0, 'How to cite')\n",
    "preamble.set_title(1, 'About THOR database')\n",
    "preamble.set_title(2, 'Acknowledgements')\n",
    "display(preamble)"
   ]
  }
 ],
 "metadata": {
  "kernelspec": {
   "display_name": "Python 3",
   "language": "python",
   "name": "python3"
  },
  "language_info": {
   "codemirror_mode": {
    "name": "ipython",
    "version": 3
   },
   "file_extension": ".py",
   "mimetype": "text/x-python",
   "name": "python",
   "nbconvert_exporter": "python",
   "pygments_lexer": "ipython3",
   "version": "3.8.5"
  }
 },
 "nbformat": 4,
 "nbformat_minor": 4
}
