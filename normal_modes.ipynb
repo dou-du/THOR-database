{
 "cells": [
  {
   "cell_type": "code",
   "execution_count": 1,
   "metadata": {},
   "outputs": [],
   "source": [
    "import numpy as np\n",
    "import matplotlib.pyplot as plt\n",
    "import math\n",
    "from timeit import default_timer as timer"
   ]
  },
  {
   "cell_type": "code",
   "execution_count": 4,
   "metadata": {},
   "outputs": [],
   "source": [
    "from load_data import load_file\n",
    "from helper_functions import calc_scaling,symmetrize,rotate_to_reference,single_rotD,single_rotP\n",
    "from calc_average import full_average,full_average_IR,full_average_R,full_average_R_orth,numerical_sector_average\n",
    "from calc_single import oriented_IR,oriented_R,single_rot_IR,single_rot_R"
   ]
  },
  {
   "cell_type": "code",
   "execution_count": 5,
   "metadata": {},
   "outputs": [
    {
     "name": "stdout",
     "output_type": "stream",
     "text": [
      "Loaded  freq-19813-90-2.fchk\n"
     ]
    }
   ],
   "source": [
    "#filename=\"freq-19813-90-2.out\"   # less accurate\n",
    "filename=\"freq-19813-90-2.fchk\"   # more accurate\n",
    "fr,Z,Q,D,P0,nat,aniso=load_file(filename)"
   ]
  },
  {
   "cell_type": "code",
   "execution_count": 6,
   "metadata": {},
   "outputs": [
    {
     "name": "stdout",
     "output_type": "stream",
     "text": [
      "IR scaling  2925.374334329951\n",
      "Raman internal scaling  2.060252732874952e-45\n"
     ]
    }
   ],
   "source": [
    "phys_params=dict(laser =785, #633, \n",
    "                 T = 298.15\n",
    "                 )\n",
    "\n",
    "# calculate intensity scaling factors\n",
    "v0= math.pow(10, 7)/phys_params['laser']\n",
    "\n",
    "scalingIR,scaling,scalingexp= calc_scaling(phys_params['T'])\n",
    "print(\"IR scaling \",scalingIR)\n",
    "print(\"Raman internal scaling \",scaling)\n",
    "pi=math.pi\n",
    "torad=2*pi/360"
   ]
  },
  {
   "cell_type": "code",
   "execution_count": 7,
   "metadata": {
    "scrolled": true
   },
   "outputs": [
    {
     "name": "stdout",
     "output_type": "stream",
     "text": [
      "Mode  31\n",
      "Time for evaluation\n",
      "   Analytic \t7.6e-05s \n",
      "   Numerical \t4.6e-01s \n",
      "   Num/An \t6.0e+03\n",
      "Abs. and rel. error of numerical results\n",
      "   IR \t\t-5.99e-03\t-0.11% \n",
      "   Raman \t-2.92e-34\t-0.02% \n",
      "   Conv \t-7.84e-35\t-0.00%\n",
      "-----------------------------------------------\n",
      "IR intensity                            | Raman intensity\n",
      "single    numeric1  numeric2   orient   | single    numeric1   numeric2   orient\n",
      "3.642e-02 3.642e-02 3.641e-02 3.642e-02 | 2.652e-33 2.652e-33 2.652e-33 2.652e-33\n",
      "3.642e-02 3.642e-02 3.641e-02 3.642e-02 | 2.652e-33 2.652e-33 2.652e-33 2.652e-33\n",
      "3.642e-02 3.642e-02 3.642e-02 3.642e-02 | 2.652e-33 2.652e-33 2.653e-33 2.652e-33\n",
      "3.642e-02 3.642e-02 3.641e-02 3.642e-02 | 2.652e-33 2.652e-33 2.652e-33 2.652e-33\n",
      "2.195e+00 2.195e+00 2.195e+00 2.195e+00 | 6.118e-32 6.118e-32 6.118e-32 6.118e-32\n",
      "3.201e-04 3.201e-04 3.201e-04 3.201e-04 | 7.189e-34 7.189e-34 7.188e-34 7.189e-34\n",
      "3.980e+00 3.980e+00 3.980e+00 3.980e+00 | 7.389e-31 7.389e-31 7.389e-31 7.389e-31\n",
      "2.195e+00 2.195e+00 2.195e+00 2.195e+00 | 6.118e-32 6.118e-32 6.118e-32 6.118e-32\n",
      "7.600e+00 7.600e+00 7.600e+00 7.600e+00 | 9.537e-31 9.537e-31 9.537e-31 9.537e-31\n",
      "4.920e-02 4.920e-02 4.920e-02 4.920e-02 | 1.187e-32 1.187e-32 1.187e-32 1.187e-32\n",
      "1.066e+01 1.066e+01 1.066e+01 1.066e+01 | 3.407e-30 3.407e-30 3.407e-30 3.407e-30\n",
      "7.600e+00 7.600e+00 7.600e+00 7.600e+00 | 9.537e-31 9.537e-31 9.537e-31 9.537e-31\n",
      "1.085e+01 1.085e+01 1.085e+01 1.085e+01 | 2.280e-30 2.280e-30 2.280e-30 2.280e-30\n",
      "1.342e-01 1.342e-01 1.342e-01 1.342e-01 | 1.044e-31 1.044e-31 1.044e-31 1.044e-31\n",
      "1.339e+01 1.339e+01 1.339e+01 1.339e+01 | 4.096e-30 4.096e-30 4.096e-30 4.096e-30\n",
      "1.085e+01 1.085e+01 1.085e+01 1.085e+01 | 2.280e-30 2.280e-30 2.280e-30 2.280e-30\n",
      "Mode  40\n",
      "Time for evaluation\n",
      "   Analytic \t6.1e-05s \n",
      "   Numerical \t4.6e-01s \n",
      "   Num/An \t7.5e+03\n",
      "Abs. and rel. error of numerical results\n",
      "   IR \t\t-3.27e-03\t-0.08% \n",
      "   Raman \t-3.46e-34\t-0.03% \n",
      "   Conv \t-1.88e-33\t-0.01%\n",
      "-----------------------------------------------\n",
      "IR intensity                            | Raman intensity\n",
      "single    numeric1  numeric2   orient   | single    numeric1   numeric2   orient\n",
      "1.260e+00 1.260e+00 1.260e+00 1.260e+00 | 1.363e-32 1.363e-32 1.363e-32 1.363e-32\n",
      "1.260e+00 1.260e+00 1.260e+00 1.260e+00 | 1.363e-32 1.363e-32 1.363e-32 1.363e-32\n",
      "1.260e+00 1.260e+00 1.260e+00 1.260e+00 | 1.363e-32 1.363e-32 1.363e-32 1.363e-32\n",
      "1.260e+00 1.260e+00 1.260e+00 1.260e+00 | 1.363e-32 1.363e-32 1.363e-32 1.363e-32\n",
      "6.108e-02 6.108e-02 6.108e-02 6.108e-02 | 3.818e-32 3.818e-32 3.818e-32 3.818e-32\n",
      "3.315e-01 3.315e-01 3.315e-01 3.315e-01 | 4.909e-32 4.909e-32 4.909e-32 4.909e-32\n",
      "6.694e+00 6.694e+00 6.694e+00 6.694e+00 | 6.143e-31 6.143e-31 6.143e-31 6.143e-31\n",
      "6.108e-02 6.108e-02 6.108e-02 6.108e-02 | 3.818e-32 3.818e-32 3.818e-32 3.818e-32\n",
      "2.404e+00 2.404e+00 2.404e+00 2.404e+00 | 6.919e-31 6.919e-31 6.919e-31 6.919e-31\n",
      "1.565e-02 1.565e-02 1.566e-02 1.565e-02 | 1.806e-31 1.806e-31 1.806e-31 1.806e-31\n",
      "1.128e+01 1.128e+01 1.128e+01 1.128e+01 | 2.706e-30 2.706e-30 2.706e-30 2.706e-30\n",
      "2.404e+00 2.404e+00 2.404e+00 2.404e+00 | 6.919e-31 6.919e-31 6.919e-31 6.919e-31\n",
      "5.945e+00 5.945e+00 5.945e+00 5.945e+00 | 1.931e-30 1.931e-30 1.931e-30 1.931e-30\n",
      "6.280e-01 6.280e-01 6.280e-01 6.280e-01 | 2.742e-31 2.742e-31 2.742e-31 2.742e-31\n",
      "1.044e+01 1.044e+01 1.044e+01 1.044e+01 | 3.382e-30 3.382e-30 3.382e-30 3.382e-30\n",
      "5.945e+00 5.945e+00 5.945e+00 5.945e+00 | 1.931e-30 1.931e-30 1.931e-30 1.931e-30\n"
     ]
    }
   ],
   "source": [
    "# modes: list of normal modes to calculate\n",
    "modes=[31,40]\n",
    "\n",
    "rotate=0    # rotate molecule to reference orientation before analysis, NOT IMPLEMENTED YET\n",
    "numerical=1 # perform numerical tests\n",
    "single=1    # get intensities for single rotations\n",
    "\n",
    "# rotational angles for single rotations \n",
    "nx=4      \n",
    "ths=np.linspace(0,pi/2,  num=nx) \n",
    "phs=np.linspace(0,2*pi,  num=nx)\n",
    "\n",
    "Lm=1\n",
    "\n",
    "# Full orientation averages\n",
    "nummodes=len(modes)\n",
    "conv_av=np.zeros((nummodes))     # conversion intensity\n",
    "ir_av=np.zeros((nummodes))    # IR intensity\n",
    "r_av=np.zeros((nummodes))     # Raman Stokes intensity, parallel fields\n",
    "r_a_av=np.zeros((nummodes))   # Raman anti-Stokes intensity, parallel fields\n",
    "r_av_ort=np.zeros((nummodes)) # Raman Stokes intensity, orthogonal fields\n",
    "\n",
    "# Single orientations\n",
    "ir_single=np.zeros((nummodes,len(ths),len(phs)))  # IR intensity\n",
    "r_single=np.zeros((nummodes,len(ths),len(phs)))   # Raman Stokes, parallel fields\n",
    "conv_single=np.zeros((nummodes,len(ths),len(phs))) # Conversion intensity, parallel fields\n",
    "\n",
    "for n,m in enumerate(modes):\n",
    "    print(\"Mode \",m)\n",
    "    P=symmetrize(P0[m,:,:])\n",
    "    if rotate:\n",
    "        Drot,Prot,R=rotate_to_reference(D[m,:],P,Z,Q)\n",
    "        \n",
    "# Calculate frequency-dependent scaling factors\n",
    "    # Usual Stokes for thermal population\n",
    "    scalingR=Lm*scaling* math.pow(v0 - fr[m], 4) / (\n",
    "                fr[m] * (1 - math.exp(scalingexp * fr[m]))) \n",
    "    # Usual anti-Stokes for thermal population\n",
    "    scalingaR=Lm*scaling* math.pow(v0 + fr[m], 4) / fr[m] *(\n",
    "           1/(-1+math.exp(-scalingexp * fr[m]))) # \n",
    "    # For THOR: anti-Stokes without population\n",
    "    scalingTHOR=Lm*scaling* math.pow(v0 + fr[m], 4) / fr[m] \n",
    "\n",
    "# Calculate full averages analytically\n",
    "    starta=timer()\n",
    "    conv_av[n] = scalingIR *scalingTHOR*full_average(D[m,:],P)  \n",
    "    ir_av[n]=scalingIR*full_average_IR(D[m,:]) \n",
    "    Rav=full_average_R(P)\n",
    "    r_av[n]=scalingR*Rav \n",
    "    enda=timer()\n",
    "    r_a_av[n]=scalingaR*Rav \n",
    "    r_ort,depol=full_average_R_orth(P)\n",
    "    r_av_ort[n]=scalingR*r_ort \n",
    "    \n",
    "# Test: Calculate full averages numerically \n",
    "    if numerical:\n",
    "            startm=timer()\n",
    "            ir_numav, r_numav,p_numav=numerical_sector_average(D[m,:],P,1,1,0,0,0)\n",
    "            ir_numav=scalingIR*ir_numav\n",
    "            r_numav=scalingR*r_numav\n",
    "            p_numav=scalingIR *scalingTHOR*p_numav\n",
    "            endm=timer()\n",
    "            print(\"Time for evaluation\\n   Analytic \\t{:.1e}s \\n   Numerical \\t{:.1e}s \\n   Num/An \\t{:.1e}\".format(\n",
    "                enda-starta,endm-startm,(endm-startm)/(enda-starta)))\n",
    "            print(\"Abs. and rel. error of numerical results\\n   IR \\t\\t{:.2e}\\t{:.2f}% \\n   Raman \\t{:.2e}\\t{:.2f}% \\n   Conv \\t{:.2e}\\t{:.2f}%\".format(\n",
    "                ir_numav-ir_av[n],(ir_numav-ir_av[n])/ir_av[n]*100,r_numav-r_av[n],(r_numav-r_av[n])/r_av[n]*100,\n",
    "                p_numav-conv_av[n],(p_numav-conv_av[n])/conv_av[n]*100))\n",
    "            print(\"-----------------------------------------------\")\n",
    "            \n",
    "# Calculate single orientations analytically\n",
    "    if single:\n",
    "            if numerical:\n",
    "                print(\"IR intensity                            | Raman intensity\")\n",
    "                print(\"single    numeric1  numeric2   orient   | single    numeric1   numeric2   orient\")\n",
    "            for i,th in enumerate(ths):\n",
    "                for j,ph in enumerate(phs):\n",
    "                    ir=single_rot_IR(D[m,:],a=ph,b=th,c=0) \n",
    "                    r=single_rot_R(P,a=ph,b=th,c=0)\n",
    "                    ir_single[n,i,j]=scalingIR*ir\n",
    "                    r_single[n,i,j]=scalingR*r\n",
    "                    conv_single[n,i,j]=scalingIR*scalingTHOR*ir*r\n",
    "                    \n",
    "# Tests: numerical average on rotated D and P should give the same value \n",
    "#             when using nump=1, \n",
    "#             or in the limit of k->inf and l->inf\n",
    "#        rotating D and P first and using field oriented along z should also give the same\n",
    "                    if numerical:\n",
    "                        Drot=single_rotD(D[m,:],a=ph,b=th,c=0)\n",
    "                        Prot=single_rotP(P,a=ph,b=th,c=0)\n",
    "                        ir_snumav, r_snumav,p_snumav=numerical_sector_average(Drot,Prot,1,1,0,0,0,nump=1)\n",
    "                        ir_snumav2, r_snumav2,p_snumav2=numerical_sector_average(Drot,Prot,1000000,1000000,0,0,0,nump=30)\n",
    "                        print(\"{:.3e} {:.3e} {:.3e} {:.3e} | {:.3e} {:.3e} {:.3e} {:.3e}\".format(ir_single[n,i,j],\n",
    "                            scalingIR*ir_snumav,scalingIR*ir_snumav2,scalingIR*oriented_IR(Drot),\n",
    "                            r_single[n,i,j],\n",
    "                            scalingR*r_snumav,scalingR*r_snumav2,scalingR*oriented_R(Prot)))"
   ]
  },
  {
   "cell_type": "code",
   "execution_count": 8,
   "metadata": {},
   "outputs": [
    {
     "name": "stdout",
     "output_type": "stream",
     "text": [
      "\tfull average  \tav. of single rotations \terror%\n",
      "Mode  31\n",
      "IR  \t5.429e+00 \t\t6.071e+00 \t\t0.118%\n",
      "Raman \t1.206e-30 \t\t1.355e-30 \t\t0.124%\n",
      "Conv.  \t2.512e-29 \t\t2.782e-29 \t\t0.108%\n",
      "Mode  40\n",
      "IR  \t4.200e+00 \t\t3.974e+00 \t\t-0.054%\n",
      "Raman \t1.062e-30 \t\t1.137e-30 \t\t0.071%\n",
      "Conv.  \t1.791e-29 \t\t1.873e-29 \t\t0.046%\n"
     ]
    }
   ],
   "source": [
    "# Test: check if average of single rotations gives full average\n",
    "# weighting function: pi*sin(theta)/(2*number of single rotations)\n",
    "# set nx larger for high accuracy\n",
    "print(\"\\tfull average  \\tav. of single rotations \\terror%\")\n",
    "ir_single_av=np.zeros((nummodes))\n",
    "r_single_av=np.zeros((nummodes))\n",
    "conv_single_av=np.zeros((nummodes))\n",
    "\n",
    "for n,m in enumerate(modes):\n",
    "    print (\"Mode \",m)\n",
    "    ir_single_av[n]=pi*np.sum(np.sum(ir_single[n,:,:],axis=1)*np.sin(np.array(ths)))/(len(ths)*len(phs)*2)\n",
    "    print(\"IR  \\t{:.3e} \\t\\t{:.3e} \\t\\t{:.3f}%\".format(ir_av[n],ir_single_av[n],\n",
    "                                                      (ir_single_av[n]-ir_av[n])/ir_av[n]))\n",
    "    \n",
    "    r_single_av[n]=pi*np.sum(np.sum(r_single[n,:,:],axis=1)*np.sin(np.array(ths)))/(len(ths)*len(phs)*2)\n",
    "    print(\"Raman \\t{:.3e} \\t\\t{:.3e} \\t\\t{:.3f}%\".format(r_av[n],r_single_av[n],\n",
    "                                                        (r_single_av[n]-r_av[n])/r_av[n]))\n",
    "\n",
    "    \n",
    "    conv_single_av[n]=pi*np.sum(np.sum(conv_single[n,:,:],axis=1)*np.sin(np.array(ths)))/(len(ths)*len(phs)*2)\n",
    "    print(\"Conv.  \\t{:.3e} \\t\\t{:.3e} \\t\\t{:.3f}%\".format(\n",
    "        conv_av[n],conv_single_av[n],(conv_single_av[n]-conv_av[n])/conv_av[n]))"
   ]
  },
  {
   "cell_type": "code",
   "execution_count": null,
   "metadata": {},
   "outputs": [],
   "source": []
  }
 ],
 "metadata": {
  "kernelspec": {
   "display_name": "Python 3",
   "language": "python",
   "name": "python3"
  },
  "language_info": {
   "codemirror_mode": {
    "name": "ipython",
    "version": 3
   },
   "file_extension": ".py",
   "mimetype": "text/x-python",
   "name": "python",
   "nbconvert_exporter": "python",
   "pygments_lexer": "ipython3",
   "version": "3.7.3"
  }
 },
 "nbformat": 4,
 "nbformat_minor": 2
}
