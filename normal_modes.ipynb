{
 "cells": [
  {
   "cell_type": "code",
   "execution_count": 1,
   "metadata": {},
   "outputs": [],
   "source": [
    "\n",
    "import numpy as np\n",
    "import matplotlib.pyplot as plt\n",
    "import math\n",
    "import ipympl\n",
    "from timeit import default_timer as timer"
   ]
  },
  {
   "cell_type": "code",
   "execution_count": 2,
   "metadata": {},
   "outputs": [],
   "source": [
    "import ipywidgets as widgets\n",
    "from ipywidgets import interact, interactive, fixed, interact_manual"
   ]
  },
  {
   "cell_type": "code",
   "execution_count": 3,
   "metadata": {},
   "outputs": [],
   "source": [
    "from load_data import load_file\n",
    "from helper_functions import calc_scaling,symmetrize,rotate_to_reference,single_rotD,single_rotP\n",
    "from calc_average import full_average,full_average_IR,full_average_R,full_average_R_orth,numerical_sector_average\n",
    "from calc_single import oriented_IR,oriented_R,single_rot_IR,single_rot_R"
   ]
  },
  {
   "cell_type": "code",
   "execution_count": 4,
   "metadata": {},
   "outputs": [],
   "source": [
    "from plotting_functions import create_average_spec_single"
   ]
  },
  {
   "cell_type": "code",
   "execution_count": 5,
   "metadata": {},
   "outputs": [
    {
     "name": "stdout",
     "output_type": "stream",
     "text": [
      "Loaded  freq-19813-90-2.fchk\n"
     ]
    }
   ],
   "source": [
    "#filename=\"freq-19813-90-2.out\"   # less accurate\n",
    "filename=\"freq-19813-90-2.fchk\"   # more accurate\n",
    "fr,Z,Q,D,P0,nat,aniso=load_file(filename)"
   ]
  },
  {
   "cell_type": "code",
   "execution_count": 6,
   "metadata": {},
   "outputs": [],
   "source": [
    "phys_params=dict(laser =785, #633, \n",
    "                 T = 298.15\n",
    "                 )\n",
    "\n",
    "# calculate intensity scaling factors\n",
    "v0= math.pow(10, 7)/phys_params['laser']\n",
    "\n",
    "scalingIR,scaling,scalingexp= calc_scaling(phys_params['T'])\n",
    "# print(\"IR scaling \",scalingIR)\n",
    "# print(\"Raman internal scaling \",scaling)\n",
    "pi=math.pi\n",
    "torad=2*pi/360"
   ]
  },
  {
   "cell_type": "code",
   "execution_count": 24,
   "metadata": {
    "scrolled": true
   },
   "outputs": [],
   "source": [
    "def plot_spectrum_oriented(phi,theta,show_av):\n",
    "    # modes: list of normal modes to calculate\n",
    "    modes=range(0,len(fr)) #[31,40]\n",
    "\n",
    "    rotate=0    # rotate molecule to reference orientation before analysis, NOT IMPLEMENTED YET\n",
    "    numerical=0 # perform numerical tests\n",
    "    single=1    # get intensities for single rotations\n",
    "    \n",
    "\n",
    "    # rotational angles for single rotations \n",
    "    # nx=3      \n",
    "    # ths=np.linspace(0,pi/2,  num=nx) \n",
    "    # phs=np.linspace(0,2*pi,  num=nx)     \n",
    "\n",
    "    th=theta*torad #[w_theta.value*torad] #np.linspace(0,pi/2,  num=3) \n",
    "    ph=phi*torad #[w_phi.value*torad] #np.linspace(0,pi/2,  num=3)\n",
    "\n",
    "    Lm=1\n",
    "\n",
    "    # Full orientation averages\n",
    "    nummodes=len(modes)\n",
    "    conv_av=np.zeros((nummodes))     # conversion intensity\n",
    "    ir_av=np.zeros((nummodes))    # IR intensity\n",
    "    r_av=np.zeros((nummodes))     # Raman Stokes intensity, parallel fields\n",
    "    r_a_av=np.zeros((nummodes))   # Raman anti-Stokes intensity, parallel fields\n",
    "    r_av_ort=np.zeros((nummodes)) # Raman Stokes intensity, orthogonal fields\n",
    "\n",
    "    # Single orientations\n",
    "    ir_single=np.zeros((nummodes))  # IR intensity\n",
    "    r_single=np.zeros((nummodes))   # Raman Stokes, parallel fields\n",
    "    conv_single=np.zeros((nummodes)) # Conversion intensity, parallel fields\n",
    "\n",
    "    for n,m in enumerate(modes):\n",
    "     #   print(\"Mode \",m)\n",
    "        P=symmetrize(P0[m,:,:])\n",
    "        if rotate:\n",
    "            Drot,Prot,R=rotate_to_reference(D[m,:],P,Z,Q)\n",
    "\n",
    "    # Calculate frequency-dependent scaling factors\n",
    "        # Usual Stokes for thermal population\n",
    "        scalingR=Lm*scaling* math.pow(v0 - fr[m], 4) / (\n",
    "                    fr[m] * (1 - math.exp(scalingexp * fr[m]))) \n",
    "        # Usual anti-Stokes for thermal population\n",
    "        scalingaR=Lm*scaling* math.pow(v0 + fr[m], 4) / fr[m] *(\n",
    "               1/(-1+math.exp(-scalingexp * fr[m]))) # \n",
    "        # For THOR: anti-Stokes without population\n",
    "        scalingTHOR=Lm*scaling* math.pow(v0 + fr[m], 4) / fr[m] \n",
    "\n",
    "    # Calculate full averages analytically\n",
    "        starta=timer()\n",
    "        conv_av[n] = scalingIR *scalingTHOR*full_average(D[m,:],P)  \n",
    "        ir_av[n]=scalingIR*full_average_IR(D[m,:]) \n",
    "        Rav=full_average_R(P)\n",
    "        r_av[n]=scalingR*Rav \n",
    "        enda=timer()\n",
    "        r_a_av[n]=scalingaR*Rav \n",
    "        r_ort,depol=full_average_R_orth(P)\n",
    "        r_av_ort[n]=scalingR*r_ort \n",
    "\n",
    "    # Test: Calculate full averages numerically \n",
    "        if numerical:\n",
    "                startm=timer()\n",
    "                ir_numav, r_numav,p_numav=numerical_sector_average(D[m,:],P,1,1,0,0,0)\n",
    "                ir_numav=scalingIR*ir_numav\n",
    "                r_numav=scalingR*r_numav\n",
    "                p_numav=scalingIR *scalingTHOR*p_numav\n",
    "                endm=timer()\n",
    "                print(\"Time for evaluation\\n   Analytic \\t{:.1e}s \\n   Numerical \\t{:.1e}s \\n   Num/An \\t{:.1e}\".format(\n",
    "                    enda-starta,endm-startm,(endm-startm)/(enda-starta)))\n",
    "                print(\"Abs. and rel. error of numerical results\\n   IR \\t\\t{:.2e}\\t{:.2f}% \\n   Raman \\t{:.2e}\\t{:.2f}% \\n   Conv \\t{:.2e}\\t{:.2f}%\".format(\n",
    "                    ir_numav-ir_av[n],(ir_numav-ir_av[n])/ir_av[n]*100,r_numav-r_av[n],(r_numav-r_av[n])/r_av[n]*100,\n",
    "                    p_numav-conv_av[n],(p_numav-conv_av[n])/conv_av[n]*100))\n",
    "                print(\"-----------------------------------------------\")\n",
    "\n",
    "    # Calculate single orientations analytically\n",
    "        if single:\n",
    "                if numerical:\n",
    "                    print(\"IR intensity                            | Raman intensity\")\n",
    "                    print(\"single    numeric1  numeric2   orient   | single    numeric1   numeric2   orient\")\n",
    "                ir=single_rot_IR(D[m,:],a=ph,b=th,c=0) \n",
    "                r=single_rot_R(P,a=ph,b=th,c=0)\n",
    "                ir_single[n]=scalingIR*ir\n",
    "                r_single[n]=scalingR*r\n",
    "                conv_single[n]=scalingIR*scalingTHOR*ir*r\n",
    "\n",
    "    # Tests: numerical average on rotated D and P should give the same value \n",
    "    #             when using nump=1, \n",
    "    #             or in the limit of k->inf and l->inf\n",
    "    #        rotating D and P first and using field oriented along z should also give the same\n",
    "                if numerical:\n",
    "                            Drot=single_rotD(D[m,:],a=ph,b=th,c=0)\n",
    "                            Prot=single_rotP(P,a=ph,b=th,c=0)\n",
    "                            ir_snumav, r_snumav,p_snumav=numerical_sector_average(Drot,Prot,1,1,0,0,0,nump=1)\n",
    "                            ir_snumav2, r_snumav2,p_snumav2=numerical_sector_average(Drot,Prot,1000000,1000000,0,0,0,nump=30)\n",
    "                            print(\"{:.3e} {:.3e} {:.3e} {:.3e} | {:.3e} {:.3e} {:.3e} {:.3e}\".format(ir_single[n],\n",
    "                                scalingIR*ir_snumav,scalingIR*ir_snumav2,scalingIR*oriented_IR(Drot),\n",
    "                                r_single[n],\n",
    "                                scalingR*r_snumav,scalingR*r_snumav2,scalingR*oriented_R(Prot)))\n",
    "    %matplotlib widget\n",
    "#    from plotting_functions import plot_spectra\n",
    "\n",
    "    xmin=30\n",
    "    xmax=1000\n",
    "    res=0.5\n",
    "    gammaIR=5\n",
    "    gammaR=5\n",
    "    sclf=0.98                        \n",
    "    #print(\"Single orientations\")\n",
    "    title=r'{} $\\phi$={:.1f}$\\degree$ $\\theta$={:.1f}$\\degree$'.format(filename.split(\".\")[0],ph/torad,th/torad)\n",
    "    wn,R_spec,IR_spec,conv_spec,freqs,prod_ints,R_ints,IR_ints,P,A,R=create_average_spec_single(fr,  ir_single, r_single, \n",
    "                                                                                      conv_single,\n",
    "                                                                                      xmin,xmax,res,gammaIR,gammaR,sclf)\n",
    "#    plot_spectra(0,wn,R_spec,IR_spec,freqs,prod_ints,xmin,xmax,res,title,0)\n",
    "    wn,R_spec_av,IR_spec_av,conv_spec_av,freqs,prod_ints_av,R_ints_av,IR_ints_av,P_av,A_av,R_av=create_average_spec_single(fr,  ir_av, r_av, conv_av,\n",
    "                                                                                  xmin,xmax,res,gammaIR,gammaR,sclf)\n",
    "#    plot_spectra(0,wn,R_spec,IR_spec,freqs,prod_ints,xmin,xmax,res,filename.split(\".\")[0],0)\n",
    "    \n",
    "    \n",
    "    plt.rcParams.update({'font.size': 16})\n",
    "    fig=plt.figure()\n",
    "    fig.set_size_inches(8, 7)\n",
    "    ax2=fig.add_subplot(311)\n",
    "    ax3=fig.add_subplot(312,sharex=ax2)\n",
    "    ax1=fig.add_subplot(313,sharex=ax2)\n",
    "    ax3.fill_between(wn,R_spec,alpha=0.6,color='b',label='Raman')\n",
    "    ax2.fill_between(wn,IR_spec,alpha=0.6,color='r',label='IR') \n",
    "    ax1.fill_between(wn,conv_spec,alpha=0.6,color='k',label='conv') \n",
    " #   markerline, stemline, baseline, =ax1.stem(freqs,prod_ints,\n",
    " #                                                'k',markerfmt='ok',basefmt='k',\n",
    " #                                                use_line_collection=True,bottom=0,label='Conv.')\n",
    "    pmin=int(xmin/res)\n",
    "    pmax=int(xmax/res)\n",
    "    maxpr=np.max(conv_spec[pmin:pmax]) #np.max(prod_ints)\n",
    "    maxI=np.max(IR_spec[pmin:pmax])\n",
    "    maxR=np.max(R_spec[pmin:pmax])\n",
    "    if show_av:\n",
    "        ax3.fill_between(wn,R_spec_av,alpha=0.6,color='grey',label='Raman av')\n",
    "        ax2.fill_between(wn,IR_spec_av,alpha=0.6,color='grey',label='IR av')\n",
    "        ax1.fill_between(wn,conv_spec_av,alpha=0.6,color='grey',label='conv av')\n",
    " #       markerline_av, stemline_av, baseline_av, =ax1.stem(freqs,prod_ints_av,\n",
    " #                                                'grey',markerfmt='o',basefmt='grey',\n",
    " #                                                use_line_collection=True,bottom=0,label='Conv.')\n",
    "        maxpr=max(maxpr,np.max(conv_spec_av[pmin:pmax])) #np.max(prod_ints_av)\n",
    "        maxI=max(maxI,np.max(IR_spec_av[pmin:pmax]))\n",
    "        maxR=max(maxR,np.max(R_spec_av[pmin:pmax]))\n",
    " #   plt.setp(stemline, linewidth = 1.25)\n",
    " #   plt.setp(markerline, markersize = 6)    \n",
    "    plt.xlim(xmin,xmax)\n",
    "    \n",
    "    ax1.set_ylim(-maxpr/100,1.2*maxpr)\n",
    "    ax2.set_ylim(-maxI/100,1.2*maxI)\n",
    "    ax3.set_ylim(-maxR/100,1.2*maxR)\n",
    "    plt.setp(ax2.get_xticklabels(), visible=False)\n",
    "    plt.setp(ax3.get_xticklabels(), visible=False)\n",
    "    ax1.ticklabel_format(axis=\"y\", style=\"sci\", scilimits=(0,0),useMathText=True)\n",
    "    ax2.ticklabel_format(axis=\"y\", style=\"sci\", scilimits=(0,0),useMathText=True)\n",
    "    ax3.ticklabel_format(axis=\"y\", style=\"sci\", scilimits=(0,0),useMathText=True)\n",
    "    ax2.set_title(title)\n",
    "    plt.xlabel('Wavenumber (cm$^{-1}$)')\n",
    "    ax2.set_ylabel('IR',color='r')\n",
    "    ax3.set_ylabel('R',color='b')\n",
    "    ax1.set_ylabel('Conv.')\n",
    "    ax1.yaxis.set_label_coords(-0.07,0.5)\n",
    "    ax2.yaxis.set_label_coords(-0.07,0.5)\n",
    "    ax3.yaxis.set_label_coords(-0.07,0.5)\n",
    "    fig.tight_layout(pad=1.8, w_pad=0.01, h_pad=0.01)\n",
    "    plt.show()\n",
    "    \n",
    "    "
   ]
  },
  {
   "cell_type": "code",
   "execution_count": 25,
   "metadata": {},
   "outputs": [
    {
     "data": {
      "application/vnd.jupyter.widget-view+json": {
       "model_id": "11df55383d294318b86828628bd3f520",
       "version_major": 2,
       "version_minor": 0
      },
      "text/plain": [
       "interactive(children=(BoundedFloatText(value=0.0, description='Rotation (z):', max=360.0, step=0.1), BoundedFl…"
      ]
     },
     "metadata": {},
     "output_type": "display_data"
    }
   ],
   "source": [
    "interact(plot_spectrum_oriented, theta=widgets.BoundedFloatText(value=0,min=0,max=90.0,step=0.1,description='Tilt (x):',disabled=False),\n",
    "         phi=widgets.BoundedFloatText(value=0,min=0,max=360.0,step=0.1,description='Rotation (z):',disabled=False),\n",
    "         show_av=False);"
   ]
  },
  {
   "cell_type": "code",
   "execution_count": 23,
   "metadata": {},
   "outputs": [],
   "source": [
    "# Test: check if average of single rotations gives full average\n",
    "# weighting function: pi*sin(theta)/(2*number of single rotations)\n",
    "# set nx larger for high accuracy\n",
    "test=0      # test against average of single rotations, needs high nx, theta [0,pi/2], phi [0,2*pi]\n",
    "if test:\n",
    "    print(\"\\tfull average  \\tav. of single rotations \\terror%\")\n",
    "    ir_single_av=np.zeros((nummodes))\n",
    "    r_single_av=np.zeros((nummodes))\n",
    "    conv_single_av=np.zeros((nummodes))\n",
    "\n",
    "    for n,m in enumerate(modes):\n",
    "        print (\"Mode \",m)\n",
    "        ir_single_av[n]=pi*np.sum(np.sum(ir_single[n,:,:],axis=1)*np.sin(np.array(ths)))/(len(ths)*len(phs)*2)\n",
    "        print(\"IR  \\t{:.3e} \\t\\t{:.3e} \\t\\t{:.3f}%\".format(ir_av[n],ir_single_av[n],\n",
    "                                                          (ir_single_av[n]-ir_av[n])/ir_av[n]))\n",
    "\n",
    "        r_single_av[n]=pi*np.sum(np.sum(r_single[n,:,:],axis=1)*np.sin(np.array(ths)))/(len(ths)*len(phs)*2)\n",
    "        print(\"Raman \\t{:.3e} \\t\\t{:.3e} \\t\\t{:.3f}%\".format(r_av[n],r_single_av[n],\n",
    "                                                            (r_single_av[n]-r_av[n])/r_av[n]))\n",
    "\n",
    "\n",
    "        conv_single_av[n]=pi*np.sum(np.sum(conv_single[n,:,:],axis=1)*np.sin(np.array(ths)))/(len(ths)*len(phs)*2)\n",
    "        print(\"Conv.  \\t{:.3e} \\t\\t{:.3e} \\t\\t{:.3f}%\".format(\n",
    "            conv_av[n],conv_single_av[n],(conv_single_av[n]-conv_av[n])/conv_av[n]))"
   ]
  },
  {
   "cell_type": "code",
   "execution_count": null,
   "metadata": {},
   "outputs": [],
   "source": []
  },
  {
   "cell_type": "code",
   "execution_count": null,
   "metadata": {},
   "outputs": [],
   "source": []
  },
  {
   "cell_type": "code",
   "execution_count": null,
   "metadata": {},
   "outputs": [],
   "source": []
  }
 ],
 "metadata": {
  "kernelspec": {
   "display_name": "Python 3",
   "language": "python",
   "name": "python3"
  },
  "language_info": {
   "codemirror_mode": {
    "name": "ipython",
    "version": 3
   },
   "file_extension": ".py",
   "mimetype": "text/x-python",
   "name": "python",
   "nbconvert_exporter": "python",
   "pygments_lexer": "ipython3",
   "version": "3.7.3"
  }
 },
 "nbformat": 4,
 "nbformat_minor": 2
}
